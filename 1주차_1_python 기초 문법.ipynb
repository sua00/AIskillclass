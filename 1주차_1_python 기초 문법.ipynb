{
 "cells": [
  {
   "cell_type": "code",
   "execution_count": 1,
   "id": "4a3c7a36-8faf-4841-b9fb-4c670572b8c4",
   "metadata": {},
   "outputs": [],
   "source": [
    "# 데이터를 입력 받고 출력하기 : input()"
   ]
  },
  {
   "cell_type": "code",
   "execution_count": 2,
   "id": "aeb9efdd-eada-47f3-ba51-adab393b9cd4",
   "metadata": {},
   "outputs": [
    {
     "name": "stdin",
     "output_type": "stream",
     "text": [
      " 짜장면\n"
     ]
    },
    {
     "data": {
      "text/plain": [
       "'짜장면'"
      ]
     },
     "execution_count": 2,
     "metadata": {},
     "output_type": "execute_result"
    }
   ],
   "source": [
    "#ex\n",
    "menu = input()\n",
    "menu"
   ]
  },
  {
   "cell_type": "code",
   "execution_count": 3,
   "id": "e13da563-3b14-416c-b2a3-201f4cf151ee",
   "metadata": {},
   "outputs": [
    {
     "name": "stdout",
     "output_type": "stream",
     "text": [
      "짜장면\n"
     ]
    }
   ],
   "source": [
    "print(menu)"
   ]
  },
  {
   "cell_type": "code",
   "execution_count": 4,
   "id": "93befd94-3f91-451b-b691-b21a4ed3554b",
   "metadata": {},
   "outputs": [
    {
     "name": "stdin",
     "output_type": "stream",
     "text": [
      "오늘 점심으로 뭘 먹을까요? 짬뽕\n"
     ]
    },
    {
     "data": {
      "text/plain": [
       "'짬뽕'"
      ]
     },
     "execution_count": 4,
     "metadata": {},
     "output_type": "execute_result"
    }
   ],
   "source": [
    "#안내 멘트와 함께 정보 입력 창 만들기\n",
    "menu2 = input('오늘 점심으로 뭘 먹을까요?')\n",
    "menu2"
   ]
  },
  {
   "cell_type": "code",
   "execution_count": 5,
   "id": "f212845e-f22a-4afa-b5a7-e5363eef65a1",
   "metadata": {},
   "outputs": [
    {
     "name": "stdout",
     "output_type": "stream",
     "text": [
      "오늘의 점심 메뉴는  짬뽕  입니다.\n"
     ]
    }
   ],
   "source": [
    "#특정 문장 중간에 변수 값 함께 출력하기_1\n",
    "print('오늘의 점심 메뉴는 ',menu2,' 입니다.')"
   ]
  },
  {
   "cell_type": "code",
   "execution_count": 8,
   "id": "c7bbd8ff-628f-46a8-aee1-496ec644c1fc",
   "metadata": {},
   "outputs": [
    {
     "data": {
      "text/plain": [
       "'\\n특정 문장 중간에 변수 값 함께 출력하기_2 \\n%d : 정수 출력하기\\n%f : 실수 출력하기\\n%s : 문자열-숫자포함 출력하기\\n%c : 문자 출력하기\\n'"
      ]
     },
     "execution_count": 8,
     "metadata": {},
     "output_type": "execute_result"
    }
   ],
   "source": [
    "'''\n",
    "특정 문장 중간에 변수 값 함께 출력하기_2 \n",
    "%d : 정수 출력하기\n",
    "%f : 실수 출력하기\n",
    "%s : 문자열-숫자포함 출력하기\n",
    "%c : 문자 출력하기\n",
    "'''"
   ]
  },
  {
   "cell_type": "code",
   "execution_count": 9,
   "id": "fc7c7b9d-fadb-4237-bcfd-ccd694a577c3",
   "metadata": {},
   "outputs": [
    {
     "name": "stdout",
     "output_type": "stream",
     "text": [
      "오늘의 점심메뉴는 짬뽕 입니다\n"
     ]
    }
   ],
   "source": [
    "#ex\n",
    "print('오늘의 점심메뉴는 %s 입니다' %menu2)"
   ]
  },
  {
   "cell_type": "code",
   "execution_count": 11,
   "id": "366ff500-970c-4a34-877b-63b423a1e350",
   "metadata": {},
   "outputs": [
    {
     "name": "stdout",
     "output_type": "stream",
     "text": [
      "오늘의 점심메뉴는 짬뽕 입니다\n"
     ]
    }
   ],
   "source": [
    "#특정 문장 중간에 변수 값 출력하기_3 :f-string기법\n",
    "print(f'오늘의 점심메뉴는 {menu2} 입니다')"
   ]
  },
  {
   "cell_type": "code",
   "execution_count": 12,
   "id": "fe4dce3e-915c-42f9-b8ec-031758c66711",
   "metadata": {},
   "outputs": [
    {
     "data": {
      "text/plain": [
       "'\\n1. 이름을 입력하세요 : 강수아\\n2. 취미를 입력하세요 : 음악 감상\\n'"
      ]
     },
     "execution_count": 12,
     "metadata": {},
     "output_type": "execute_result"
    }
   ],
   "source": [
    "#ex. 사용자의 이름과 취미 입력받아 출력하기\n",
    "'''\n",
    "1. 이름을 입력하세요 : 강수아\n",
    "2. 취미를 입력하세요 : 음악 감상\n",
    "'''"
   ]
  },
  {
   "cell_type": "code",
   "execution_count": 13,
   "id": "94c75ae9-f562-45a4-a364-9182389100d4",
   "metadata": {},
   "outputs": [
    {
     "name": "stdin",
     "output_type": "stream",
     "text": [
      "1. 이름을 입력하세요: 강수아\n",
      "2. 취미를 입력하세요 : 음악감상\n"
     ]
    }
   ],
   "source": [
    "name = input('1. 이름을 입력하세요:')\n",
    "hobby = input('2. 취미를 입력하세요 :')"
   ]
  },
  {
   "cell_type": "code",
   "execution_count": 14,
   "id": "d65b87ff-859b-422f-8f07-a279c341f57b",
   "metadata": {},
   "outputs": [
    {
     "name": "stdin",
     "output_type": "stream",
     "text": [
      "첫번째 정수 입력: 3\n",
      "두번째 정수 입력: 4\n"
     ]
    },
    {
     "name": "stdout",
     "output_type": "stream",
     "text": [
      "3+4=34\n"
     ]
    }
   ],
   "source": [
    "#숫자형 데이터 : 주의해야하는 경우 _ input으로 받는 자료는 모두 문자로 저장된다\n",
    "no1 = input('첫번째 정수 입력:')\n",
    "no2 = input('두번째 정수 입력:')\n",
    "print('%s+%s=%s'%(no1,no2,no1+no2))"
   ]
  },
  {
   "cell_type": "code",
   "execution_count": 16,
   "id": "d89e8318-e581-4226-b0ce-860f8b06e128",
   "metadata": {},
   "outputs": [
    {
     "name": "stdin",
     "output_type": "stream",
     "text": [
      "첫번째 정수 입력: 3\n",
      "두번째 정수 입력: 4\n"
     ]
    },
    {
     "name": "stdout",
     "output_type": "stream",
     "text": [
      "3+4=7\n"
     ]
    }
   ],
   "source": [
    "#int형의 자료를 받고 싶은 경우\n",
    "no3 = int(input('첫번째 정수 입력:'))\n",
    "no4 = int(input('두번째 정수 입력:'))\n",
    "print('%s+%s=%s'%(no3,no4,no3+no4))"
   ]
  },
  {
   "cell_type": "code",
   "execution_count": 18,
   "id": "762b5a76-1471-48a5-a44c-7d45bbf4046e",
   "metadata": {},
   "outputs": [
    {
     "name": "stdin",
     "output_type": "stream",
     "text": [
      "첫번째 숫자 입력: 3\n",
      "두번째 숫자 입력: 4\n"
     ]
    },
    {
     "name": "stdout",
     "output_type": "stream",
     "text": [
      "3.0+4.0=7.0\n"
     ]
    }
   ],
   "source": [
    "#참고로 입력받을 숫자가 정수인지, 실수 인지 모른는 경우 실수형으로 받아야 한다\n",
    "no5 = float(input('첫번째 숫자 입력:'))\n",
    "no6 = float(input('두번째 숫자 입력:'))\n",
    "print('%s+%s=%s' %(no5, no6, no5+no6))"
   ]
  },
  {
   "cell_type": "code",
   "execution_count": 21,
   "id": "00102db1-8015-409d-852c-448d071e8808",
   "metadata": {},
   "outputs": [
    {
     "name": "stdout",
     "output_type": "stream",
     "text": [
      "원래 값:3.3456, 반올림 후 값:3\n"
     ]
    }
   ],
   "source": [
    "#숫자 타입에서 많이 사용되는 함수 : round(), trunc(), ceil(), floor()\n",
    "#round() : 반올림 함수\n",
    "no7 = 3.3456\n",
    "print('원래 값:%s, 반올림 후 값:%s' %(no7, round(no7)))"
   ]
  },
  {
   "cell_type": "code",
   "execution_count": 22,
   "id": "f97ecf8b-d03f-4c81-a7f8-780dae45e93e",
   "metadata": {},
   "outputs": [
    {
     "name": "stdout",
     "output_type": "stream",
     "text": [
      "원래 값 : 3.3456, 정수 자리까지 표시:3, 소수 1의 자리까지 표시:3.3\n"
     ]
    }
   ],
   "source": [
    "#기본적으로 정수자리 까지 출력, 소수점 이하 자리 수 지정 가능\n",
    "print('원래 값 : %s, 정수 자리까지 표시:%s, 소수 1의 자리까지 표시:%s'%(no7,round(no7), round(no7,1)))"
   ]
  },
  {
   "cell_type": "code",
   "execution_count": 29,
   "id": "1da6a6c1-051f-4393-9eba-a6774e9aade1",
   "metadata": {},
   "outputs": [
    {
     "name": "stdout",
     "output_type": "stream",
     "text": [
      "원래 값: 3.3456, 버림 값: 3\n"
     ]
    }
   ],
   "source": [
    "#trunc(): 무조건 정수자리 밑 버림 : math,numpy 모듈에 포함되어있는 함수\n",
    "import math #math모듈 import\n",
    "print('원래 값: %s, 버림 값: %s' %(no7,math.trunc(no7)))"
   ]
  },
  {
   "cell_type": "code",
   "execution_count": 30,
   "id": "634b99d5-8aa0-4223-9553-545bfb651ef5",
   "metadata": {},
   "outputs": [
    {
     "name": "stdout",
     "output_type": "stream",
     "text": [
      "3보다 큰 가까운 정수 찾기:3\n",
      "3.5보다 큰 가까운 정수 찾기 :4\n"
     ]
    }
   ],
   "source": [
    "#ceil(): 주어진 수와 가장 가까운 큰 정수 찾기\n",
    "print('3보다 큰 가까운 정수 찾기:%s' %math.ceil(3))\n",
    "print('3.5보다 큰 가까운 정수 찾기 :%s' %math.ceil(3.5))"
   ]
  },
  {
   "cell_type": "code",
   "execution_count": 32,
   "id": "b70173e1-a37d-41da-8e27-863028aff5fa",
   "metadata": {},
   "outputs": [
    {
     "name": "stdout",
     "output_type": "stream",
     "text": [
      "3보다 작은 가까운 정수 찾기:3\n",
      "3.5보다 작은 가까운 정수 찾기:3\n"
     ]
    }
   ],
   "source": [
    "#floor() : 주어진 수와 가장 가까운 작은 정수 찾기\n",
    "print('3보다 작은 가까운 정수 찾기:%s' %math.floor(3))\n",
    "print('3.5보다 작은 가까운 정수 찾기:%s' %math.floor(3.5))"
   ]
  },
  {
   "cell_type": "code",
   "execution_count": 37,
   "id": "d620ec5b-4f69-4888-a520-55d363e7b11e",
   "metadata": {},
   "outputs": [
    {
     "name": "stdout",
     "output_type": "stream",
     "text": [
      "파이썬완전쉽죠? 파\n",
      "파이썬\n",
      "파이썬\n",
      "완전쉽죠?\n"
     ]
    }
   ],
   "source": [
    "#문자열 : 특정 위치 글자 조회하기\n",
    "txt='파이썬완전쉽죠?'\n",
    "print(txt,txt[0])\n",
    "#특정 범위 출력\n",
    "print(txt[0:3])\n",
    "#처음부터 n번째 인덱스까지\n",
    "print(txt[ :3])\n",
    "#n번째부터 마지막까지\n",
    "print(txt[3:])"
   ]
  },
  {
   "cell_type": "code",
   "execution_count": 38,
   "id": "932917a8-ec96-4718-b318-e62056ed58c9",
   "metadata": {},
   "outputs": [
    {
     "name": "stdout",
     "output_type": "stream",
     "text": [
      "PYTHON\n",
      "python\n"
     ]
    }
   ],
   "source": [
    "#문자열 함수 : lower(), upper(), lstrip(),rstrip(),strip(),replace(),split(),join(),len()\n",
    "#lower()/upper():소문자/대문자로 변환하기\n",
    "txt1 = 'PythoN'\n",
    "print(txt1.upper())\n",
    "print(txt1.lower())"
   ]
  },
  {
   "cell_type": "code",
   "execution_count": 41,
   "id": "7b8094d8-2b31-4458-a326-03e8c50a57f9",
   "metadata": {},
   "outputs": [
    {
     "name": "stdout",
     "output_type": "stream",
     "text": [
      "1.원래문장 :        오른쪽/왼쪽 공백 제거하기         :\n",
      "2.왼쪽 공백제거: 오른쪽/왼쪽 공백 제거하기         :\n",
      "3. 오른쪽 공백 제거 :        오른쪽/왼쪽 공백 제거하기 :\n",
      "4.양쪽 공백 제거: 오른쪽/왼쪽 공백 제거하기 :\n"
     ]
    }
   ],
   "source": [
    "#lstrip(),rstrip(),strip() : 문자열 좌/우 공백 제거하기\n",
    "txt2 = '       오른쪽/왼쪽 공백 제거하기        '\n",
    "print('1.원래문장 :',txt2,':')\n",
    "print('2.왼쪽 공백제거:',txt2.lstrip(),':')\n",
    "print('3. 오른쪽 공백 제거 :',txt2.rstrip(),':')\n",
    "print('4.양쪽 공백 제거:',txt2.strip(),':')"
   ]
  },
  {
   "cell_type": "code",
   "execution_count": 45,
   "id": "e45ea8ea-594e-45fa-b8d0-1baacbe93b02",
   "metadata": {},
   "outputs": [
    {
     "name": "stdout",
     "output_type": "stream",
     "text": [
      "원래 단어: PythoN\n",
      "JaVa\n",
      "원래 문장:        오른쪽/왼쪽 공백 제거하기        \n",
      "       오른쪽/왼쪽  제거하기        \n"
     ]
    }
   ],
   "source": [
    "#replace() : 문자열에서 내용 바꾸기\n",
    "print('원래 단어:',txt1)\n",
    "print(txt1.replace('PythoN','JaVa'))\n",
    "print('원래 문장:',txt2)\n",
    "print(txt2.replace('공백',''))"
   ]
  },
  {
   "cell_type": "code",
   "execution_count": 51,
   "id": "6d719a6a-135b-4c91-96d8-20cfb876149f",
   "metadata": {},
   "outputs": [
    {
     "name": "stdout",
     "output_type": "stream",
     "text": [
      "['https:', '', 'blog.naver.com', 'ssunag0105']\n",
      "blog.naver.com\n",
      "['https://blog', 'naver', 'com/ssunag0105']\n",
      "naver\n"
     ]
    }
   ],
   "source": [
    "#split():특정 기호를 기준으로 나누기\n",
    "url ='https://blog.naver.com/ssunag0105'\n",
    "print(url.split('/'))\n",
    "print(url.split('/')[2])\n",
    "print(url.split('.'))\n",
    "print(url.split('.')[1])"
   ]
  },
  {
   "cell_type": "code",
   "execution_count": 3,
   "id": "1bb74b54-e479-4cfe-844f-9e5a5b55b834",
   "metadata": {},
   "outputs": [
    {
     "data": {
      "text/plain": [
       "'010-1234-5678'"
      ]
     },
     "execution_count": 3,
     "metadata": {},
     "output_type": "execute_result"
    }
   ],
   "source": [
    "#join() 문자끼리 연결하기\n",
    "tel = '-'.join(['010','1234','5678'])\n",
    "tel"
   ]
  },
  {
   "cell_type": "code",
   "execution_count": 5,
   "id": "4a617c63-7411-4ac9-9981-5f49af0df7d4",
   "metadata": {},
   "outputs": [
    {
     "data": {
      "text/plain": [
       "['사과', '딸기', '추가', '바나나', '추가']"
      ]
     },
     "execution_count": 5,
     "metadata": {},
     "output_type": "execute_result"
    }
   ],
   "source": [
    "#리스트 관련 함수 : append(),insert(),del(),remove(),sort(),reverse()\n",
    "#append() : 리스트에 제일 마지막에 추가, insert():n번째 인덱스에 추가\n",
    "fruit = ['사과','딸기','바나나']\n",
    "fruit.append('추가')\n",
    "fruit\n",
    "fruit.insert(2,'추가')\n",
    "fruit"
   ]
  },
  {
   "cell_type": "code",
   "execution_count": 1,
   "id": "b549f13d-f46c-4b10-aa96-e0d2e3523871",
   "metadata": {},
   "outputs": [
    {
     "data": {
      "text/plain": [
       "{'회장': '강수아', '부회장': '이도균', '선도부장': '가나다'}"
      ]
     },
     "execution_count": 1,
     "metadata": {},
     "output_type": "execute_result"
    }
   ],
   "source": [
    "#딕셔너리 {key1:Value1},{key2:value2}\n",
    "#1:1\n",
    "student = {'회장':'강수아','부회장':'이도균','선도부장':'가나다'}\n",
    "student"
   ]
  },
  {
   "cell_type": "code",
   "execution_count": 12,
   "id": "673290e6-6b81-4aba-9eaa-4165b367e427",
   "metadata": {},
   "outputs": [
    {
     "name": "stdout",
     "output_type": "stream",
     "text": [
      "{'1반': ['강수아', '이도균', '가나다']}\n",
      "['강수아', '이도균', '가나다']\n"
     ]
    }
   ],
   "source": [
    "#1:n\n",
    "stu = {'1반':['강수아','이도균','가나다']}\n",
    "print(stu)\n",
    "print(stu['1반'])"
   ]
  },
  {
   "cell_type": "code",
   "execution_count": 18,
   "id": "29130ed7-3bad-46f2-a27a-6ff3779d91bb",
   "metadata": {},
   "outputs": [
    {
     "name": "stdout",
     "output_type": "stream",
     "text": [
      "{'1반': ['강수아', '이도균', '가나다']}\n",
      "{}\n"
     ]
    }
   ],
   "source": [
    "print(stu)\n",
    "del stu['1반']\n",
    "print(stu)"
   ]
  },
  {
   "cell_type": "code",
   "execution_count": 21,
   "id": "3e5b6909-608a-49fa-a2ce-6c00984e06de",
   "metadata": {},
   "outputs": [
    {
     "name": "stdout",
     "output_type": "stream",
     "text": [
      "dict_keys(['회장', '부회장', '선도부장'])\n",
      "dict_values(['강수아', '이도균', '가나다'])\n"
     ]
    }
   ],
   "source": [
    "print(student.keys())\n",
    "print(student.values())"
   ]
  },
  {
   "cell_type": "code",
   "execution_count": 26,
   "id": "7302684a-d786-45a4-93d4-0ff2a4cf8a11",
   "metadata": {},
   "outputs": [
    {
     "name": "stdout",
     "output_type": "stream",
     "text": [
      "set1:  {1, 2, 3, 4, 5}\n",
      "4\n"
     ]
    }
   ],
   "source": [
    "#set : 집합 자료형\n",
    "#한 개의 집합에는 원소가 중복될 수 없다\n",
    "set1 = set([1,2,3,4,5,4,3,2,1])\n",
    "print('set1: ',set1) #조회를 하려면 list로 변환한뒤 해야함\n",
    "#set1[0] : X\n",
    "set2 = list(set1)\n",
    "print(set2[3])"
   ]
  },
  {
   "cell_type": "code",
   "execution_count": 30,
   "id": "d91c6f72-8439-4e5f-bfd0-924db608fef7",
   "metadata": {},
   "outputs": [
    {
     "name": "stdout",
     "output_type": "stream",
     "text": [
      "{'오빠', '나', '엄마', '아빠', '이도균'}\n",
      "{'오빠', '나', '엄마', '아빠', '이도균'}\n"
     ]
    }
   ],
   "source": [
    "#합집합 : union (union(),|)\n",
    "family = set(['엄마','아빠','오빠','나'])\n",
    "friend = set(['이도균','나'])\n",
    "print(family|friend)\n",
    "print(family.union(friend))    "
   ]
  },
  {
   "cell_type": "code",
   "execution_count": 32,
   "id": "f0584c30-07e8-4d08-afbf-58dbb45f6eb7",
   "metadata": {},
   "outputs": [
    {
     "name": "stdout",
     "output_type": "stream",
     "text": [
      "{'엄마', '오빠', '아빠'}\n",
      "{'엄마', '오빠', '아빠'}\n"
     ]
    }
   ],
   "source": [
    "#차집합 : -, difference()\n",
    "print(family-friend)\n",
    "print(family.difference(friend))"
   ]
  },
  {
   "cell_type": "code",
   "execution_count": 34,
   "id": "0e8b4d12-7865-434e-8868-665e26c944b6",
   "metadata": {},
   "outputs": [
    {
     "name": "stdout",
     "output_type": "stream",
     "text": [
      "{'나'}\n",
      "{'나'}\n"
     ]
    }
   ],
   "source": [
    "#교집합 : &, intersection()\n",
    "print(family & friend)\n",
    "print(family.intersection(friend))"
   ]
  },
  {
   "cell_type": "code",
   "execution_count": 38,
   "id": "c2814723-c33c-415d-b251-da9b9397013c",
   "metadata": {},
   "outputs": [
    {
     "name": "stdout",
     "output_type": "stream",
     "text": [
      "현재 이 과목의 수강 신청자는  ['홍길동', '일지매'] 입니다\n"
     ]
    },
    {
     "name": "stdin",
     "output_type": "stream",
     "text": [
      "목록에 추가할 첫번째 학생의 이름을 입력하세요: 전우치\n"
     ]
    },
    {
     "name": "stdout",
     "output_type": "stream",
     "text": [
      "전우치  학생의 신청이 완료되었습니다.\n"
     ]
    },
    {
     "name": "stdin",
     "output_type": "stream",
     "text": [
      "목록에 추가할 두번째 학생의 이름을 입력하세요: 유관순\n"
     ]
    },
    {
     "name": "stdout",
     "output_type": "stream",
     "text": [
      "유관순  학생의 신청이 완료되었습니다.\n",
      "현재의 이 과목의 최종 수강 신청자는 ['홍길동', '일지매', '전우치', '유관순'] 입니다.\n"
     ]
    }
   ],
   "source": [
    "#예제\n",
    "pre = ['홍길동','일지매']\n",
    "print('현재 이 과목의 수강 신청자는 ',pre,'입니다')\n",
    "stu1 = input('목록에 추가할 첫번째 학생의 이름을 입력하세요:')\n",
    "print(stu1,' 학생의 신청이 완료되었습니다.')\n",
    "stu2 = input('목록에 추가할 두번째 학생의 이름을 입력하세요:')\n",
    "print(stu2,' 학생의 신청이 완료되었습니다.')\n",
    "pre.append(stu1)\n",
    "pre.append(stu2)\n",
    "print('현재의 이 과목의 최종 수강 신청자는',pre, '입니다.')"
   ]
  },
  {
   "cell_type": "code",
   "execution_count": 44,
   "id": "fa7613e2-0fbc-485d-81b2-9168a644d5e4",
   "metadata": {},
   "outputs": [
    {
     "name": "stdout",
     "output_type": "stream",
     "text": [
      "현재 수강 신청자는 ['홍길동', '일지매', '전우치', '유관순'] 입니다\n"
     ]
    },
    {
     "name": "stdin",
     "output_type": "stream",
     "text": [
      "수강 철회하는 학생의 이름을 쓰세요: 전우치\n"
     ]
    },
    {
     "name": "stdout",
     "output_type": "stream",
     "text": [
      "전우치 학생의 수강신청 철회가 완료되었습니다.\n",
      "현재 이 과목의 최종 수강 신청자는 ['홍길동', '일지매', '유관순'] 입니다\n"
     ]
    }
   ],
   "source": [
    "#예제\n",
    "print('현재 수강 신청자는 %s 입니다' %pre)\n",
    "del1 = input('수강 철회하는 학생의 이름을 쓰세요:')\n",
    "print('%s 학생의 수강신청 철회가 완료되었습니다.' %del1)\n",
    "pre.remove(del1)\n",
    "print('현재 이 과목의 최종 수강 신청자는 %s 입니다' %pre)"
   ]
  },
  {
   "cell_type": "code",
   "execution_count": 50,
   "id": "156877aa-a5ed-48f0-b44d-c37f6b99dbb3",
   "metadata": {},
   "outputs": [
    {
     "name": "stdin",
     "output_type": "stream",
     "text": [
      "숫자를 입력하세요: 3\n"
     ]
    },
    {
     "name": "stdout",
     "output_type": "stream",
     "text": [
      "9\n"
     ]
    }
   ],
   "source": [
    "#조건문\n",
    "#예제_사용자에게 숫자를 입력하고 조건에 따라 출력하기\n",
    "no1 = int(input('숫자를 입력하세요:')) #input은 기본적으로 string으로 입력되기 때문에 int를 씌워준다\n",
    "if no1 %3 == 0:\n",
    "    print (no1**2) #int형이 아닐 경우 숫자 연산이 불가능하다\n",
    "else:\n",
    "    print(0)\n",
    "    "
   ]
  },
  {
   "cell_type": "code",
   "execution_count": 51,
   "id": "519712fc-16f2-4371-a9dd-f410bbc419ad",
   "metadata": {},
   "outputs": [
    {
     "name": "stdin",
     "output_type": "stream",
     "text": [
      "사과, 감, 귤 중에 어떤 과일 좋아하세요?: 사자\n"
     ]
    },
    {
     "name": "stdout",
     "output_type": "stream",
     "text": [
      "올바른 입력 값이 아닙니다.\n"
     ]
    }
   ],
   "source": [
    "#예제_사용자의 입력에 따른 출력값\n",
    "fruit = input('사과, 감, 귤 중에 어떤 과일 좋아하세요?:')\n",
    "if fruit == '사과':\n",
    "    print('Good')\n",
    "elif fruit == '감':\n",
    "    print('Very good')\n",
    "elif fruit =='귤' :\n",
    "    print('So So')\n",
    "else:\n",
    "    print('올바른 입력 값이 아닙니다.')\n",
    "    "
   ]
  },
  {
   "cell_type": "code",
   "execution_count": 55,
   "id": "8b8d62b1-8a76-4b42-8eca-478967f6a13a",
   "metadata": {},
   "outputs": [
    {
     "name": "stdin",
     "output_type": "stream",
     "text": [
      "위 메뉴 중 주문할 메뉴의 번호를 쓰세요: 2\n",
      "위 메뉴의 주문 수량을 쓰세요 : 3\n"
     ]
    },
    {
     "name": "stdout",
     "output_type": "stream",
     "text": [
      "주문하신 메뉴는 짬뽕이고, 주문수량은 3 그릇이며 주문금액은 18000 입니다.\n"
     ]
    }
   ],
   "source": [
    "menu = {'1.짜장면' : '5000원', '2.짬뽕': '6000원', '3.군만두' :'8000원', '4.탕수육':'10000원'}\n",
    "select = int(input('위 메뉴 중 주문할 메뉴의 번호를 쓰세요:'))\n",
    "num = int(input('위 메뉴의 주문 수량을 쓰세요 :'))\n",
    "if select == 1 :\n",
    "    name = '짜장면'\n",
    "    price = 5000 * num\n",
    "elif select == 2 :\n",
    "    name  = '짬뽕'\n",
    "    price = 6000*num\n",
    "elif select == 3 :\n",
    "    name = '군만두'\n",
    "    price =8000* num\n",
    "elif select == 4:\n",
    "    name = '탕수육'\n",
    "    price = 10000*num\n",
    "else:\n",
    "    print('올바른 입력값을 입력하세요')\n",
    "print('주문하신 메뉴는 %s이고, 주문수량은 %i 그릇이며 주문금액은 %s 입니다.' %(name,num,price))"
   ]
  },
  {
   "cell_type": "code",
   "execution_count": 56,
   "id": "2b645a58-b5c1-4591-a9c7-077818908050",
   "metadata": {},
   "outputs": [],
   "source": [
    "#반복문 : 반복할 횟수를 지정할 때 사용하는 방법\n",
    "#for ~ in(숫자, 리스트,문자열, range()"
   ]
  },
  {
   "cell_type": "code",
   "execution_count": 58,
   "id": "16de1731-eda9-413a-89e6-89c38c2604bc",
   "metadata": {},
   "outputs": [
    {
     "name": "stdin",
     "output_type": "stream",
     "text": [
      "출력을 원하시는 단을 입력하세요: 5\n"
     ]
    },
    {
     "name": "stdout",
     "output_type": "stream",
     "text": [
      "5 X 1 = 5\n",
      "5 X 2 = 10\n",
      "5 X 3 = 15\n",
      "5 X 4 = 20\n",
      "5 X 5 = 25\n",
      "5 X 6 = 30\n",
      "5 X 7 = 35\n",
      "5 X 8 = 40\n",
      "5 X 9 = 45\n"
     ]
    }
   ],
   "source": [
    "#구구단_1단\n",
    "num = int(input('출력을 원하시는 단을 입력하세요:'))\n",
    "for n in (range(1,10)):\n",
    "    print('%s X %s = %s' %(num,n,num*n))"
   ]
  },
  {
   "cell_type": "code",
   "execution_count": 74,
   "id": "19ad67af-8ac7-41e9-922e-bedcf3241508",
   "metadata": {},
   "outputs": [
    {
     "name": "stdin",
     "output_type": "stream",
     "text": [
      "숫자를 입력하세요: 10\n"
     ]
    },
    {
     "name": "stdout",
     "output_type": "stream",
     "text": [
      "[2, 4, 6, 8, 10]\n",
      "[1, 3, 5, 7, 9]\n"
     ]
    }
   ],
   "source": [
    "num = int(input('숫자를 입력하세요:'))\n",
    "짝수=[]\n",
    "홀수=[]\n",
    "for no1 in (range(1,num+1)):\n",
    "    if(no1%2 == 0):\n",
    "        짝수.append(no1)\n",
    "    else:\n",
    "        홀수.append(no1)\n",
    "print(짝수)\n",
    "print(홀수)"
   ]
  },
  {
   "cell_type": "code",
   "execution_count": 93,
   "id": "fda2781b-a1c7-44f5-89b0-3976921252b4",
   "metadata": {},
   "outputs": [
    {
     "name": "stdout",
     "output_type": "stream",
     "text": [
      "['사과', '포도', '복숭아']\n"
     ]
    }
   ],
   "source": [
    "#예제_조건에 맞는 글자만 출력하기\n",
    "fruits = ['사과','감','포도','배','복숭아']\n",
    "fruits2 = []\n",
    "size = len(fruits)\n",
    "for idx in range(0,size):\n",
    "    if len(fruits[idx]) >= 2:\n",
    "        fruits2.append(fruits[idx])\n",
    "    else:\n",
    "        continue\n",
    "print(fruits2)"
   ]
  },
  {
   "cell_type": "code",
   "execution_count": 99,
   "id": "0d0b85c4-f0f8-4599-9a88-0b543bfa90d3",
   "metadata": {},
   "outputs": [
    {
     "name": "stdout",
     "output_type": "stream",
     "text": [
      " \n",
      "1 페이지의 1 번 글입니다.\n",
      "1 페이지의 2 번 글입니다.\n",
      "1 페이지의 3 번 글입니다.\n",
      "1 페이지의 4 번 글입니다.\n",
      "1 페이지의 5 번 글입니다.\n",
      " \n",
      "2 페이지의 1 번 글입니다.\n",
      "2 페이지의 2 번 글입니다.\n",
      "2 페이지의 3 번 글입니다.\n",
      "2 페이지의 4 번 글입니다.\n",
      "2 페이지의 5 번 글입니다.\n",
      " \n",
      "3 페이지의 1 번 글입니다.\n",
      "3 페이지의 2 번 글입니다.\n",
      "3 페이지의 3 번 글입니다.\n",
      "3 페이지의 4 번 글입니다.\n",
      "3 페이지의 5 번 글입니다.\n"
     ]
    }
   ],
   "source": [
    "#예제\n",
    "page_no =[1,2,3]\n",
    "text_no = [1,2,3,4,5]\n",
    "\n",
    "for page in page_no:\n",
    "    print(\" \")\n",
    "    for text in text_no:\n",
    "        print('%s 페이지의 %s 번 글입니다.' %(page,text))\n",
    "        \n"
   ]
  },
  {
   "cell_type": "code",
   "execution_count": 105,
   "id": "02e95554-e72d-4534-8ebf-e2f9d685be85",
   "metadata": {},
   "outputs": [
    {
     "name": "stdout",
     "output_type": "stream",
     "text": [
      "=============\n",
      "1반  :  삼색이\n",
      "1반  :  도라에몽\n",
      "1반  :  코너\n",
      "=============\n",
      "2반  :  삼색이\n",
      "2반  :  도라에몽\n",
      "2반  :  코너\n",
      "=============\n",
      "3반  :  삼색이\n",
      "3반  :  도라에몽\n",
      "3반  :  코너\n"
     ]
    }
   ],
   "source": [
    "#예제\n",
    "class_name = ['1반', '2반', '3반']\n",
    "name1 = ['홍길동', '강수아', '이도균']\n",
    "name2 = ['김진경', '고도연', '강똘이']\n",
    "name3 = ['삼색이', '도라에몽', '코너']\n",
    "\n",
    "for _class in class_name:\n",
    "    print('=============')\n",
    "    if _class == name1:\n",
    "        for name in name1:\n",
    "            print(_class,\" : \",name)\n",
    "    elif _class==name2:\n",
    "        for name in name2:\n",
    "            print(_class,\" : \",name)\n",
    "    else:\n",
    "        for name in name3:\n",
    "            print(_class,\" : \",name)"
   ]
  },
  {
   "cell_type": "code",
   "execution_count": 123,
   "id": "bc0e7692-b637-4407-91bb-9fd83adcf55c",
   "metadata": {},
   "outputs": [
    {
     "name": "stdout",
     "output_type": "stream",
     "text": [
      "2 X 1 = 2\t3 X 1 = 3\t4 X 1 = 4\t5 X 1 = 5\t6 X 1 = 6\t7 X 1 = 7\t8 X 1 = 8\t9 X 1 = 9\t\n",
      "2 X 2 = 4\t3 X 2 = 6\t4 X 2 = 8\t5 X 2 = 10\t6 X 2 = 12\t7 X 2 = 14\t8 X 2 = 16\t9 X 2 = 18\t\n",
      "2 X 3 = 6\t3 X 3 = 9\t4 X 3 = 12\t5 X 3 = 15\t6 X 3 = 18\t7 X 3 = 21\t8 X 3 = 24\t9 X 3 = 27\t\n",
      "2 X 4 = 8\t3 X 4 = 12\t4 X 4 = 16\t5 X 4 = 20\t6 X 4 = 24\t7 X 4 = 28\t8 X 4 = 32\t9 X 4 = 36\t\n",
      "2 X 5 = 10\t3 X 5 = 15\t4 X 5 = 20\t5 X 5 = 25\t6 X 5 = 30\t7 X 5 = 35\t8 X 5 = 40\t9 X 5 = 45\t\n",
      "2 X 6 = 12\t3 X 6 = 18\t4 X 6 = 24\t5 X 6 = 30\t6 X 6 = 36\t7 X 6 = 42\t8 X 6 = 48\t9 X 6 = 54\t\n",
      "2 X 7 = 14\t3 X 7 = 21\t4 X 7 = 28\t5 X 7 = 35\t6 X 7 = 42\t7 X 7 = 49\t8 X 7 = 56\t9 X 7 = 63\t\n",
      "2 X 8 = 16\t3 X 8 = 24\t4 X 8 = 32\t5 X 8 = 40\t6 X 8 = 48\t7 X 8 = 56\t8 X 8 = 64\t9 X 8 = 72\t\n",
      "2 X 9 = 18\t3 X 9 = 27\t4 X 9 = 36\t5 X 9 = 45\t6 X 9 = 54\t7 X 9 = 63\t8 X 9 = 72\t9 X 9 = 81\t\n"
     ]
    }
   ],
   "source": [
    "#구구단 출력\n",
    "for num in range(1,10):\n",
    "    for abb in range(2,10):\n",
    "        print('%s X %s = %s' %(abb, num, num*abb),end='\\t')\n",
    "    print()"
   ]
  },
  {
   "cell_type": "code",
   "execution_count": 131,
   "id": "b46a8f83-d751-4bfe-a445-768c99d98165",
   "metadata": {},
   "outputs": [
    {
     "name": "stdout",
     "output_type": "stream",
     "text": [
      "['naver', 'daum', 'gamil']\n",
      "Naver\n",
      "Naver\n",
      "Daum\n",
      "Daum\n",
      "Gamil\n",
      "Gamil\n"
     ]
    }
   ],
   "source": [
    "#예제_email 변수에 있는 값에서 도메인 주소만 출력하기\n",
    "email = ['abc@naver.com', 'def@daum.net', 'ghi@gamil.com']\n",
    "txt=[]\n",
    "for domain in email:\n",
    "    txt.append(domain.split('@')[1].split('.')[0])\n",
    "print (txt)\n",
    "for str in txt:\n",
    "    print(str[0].upper()+str[1:])\n",
    "    print(str.capitalize()) #단어의 첫글자만 대문자로 만드는 것은 capitalize()를 쓸 수 있다."
   ]
  },
  {
   "cell_type": "code",
   "execution_count": null,
   "id": "069ff77c-b9df-4eaa-a922-4a4672f4f98d",
   "metadata": {},
   "outputs": [],
   "source": []
  }
 ],
 "metadata": {
  "kernelspec": {
   "display_name": "Python 3 (ipykernel)",
   "language": "python",
   "name": "python3"
  },
  "language_info": {
   "codemirror_mode": {
    "name": "ipython",
    "version": 3
   },
   "file_extension": ".py",
   "mimetype": "text/x-python",
   "name": "python",
   "nbconvert_exporter": "python",
   "pygments_lexer": "ipython3",
   "version": "3.11.7"
  }
 },
 "nbformat": 4,
 "nbformat_minor": 5
}
